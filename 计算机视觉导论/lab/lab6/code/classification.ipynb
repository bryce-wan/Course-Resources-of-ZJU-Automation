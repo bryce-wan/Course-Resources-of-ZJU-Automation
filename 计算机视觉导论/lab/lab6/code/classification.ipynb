{
 "cells": [
  {
   "cell_type": "markdown",
   "metadata": {},
   "source": [
    "\n",
    "Training a Classifier\n",
    "=====================\n",
    "\n",
    "This is it. You have seen how to define neural networks, compute loss and make\n",
    "updates to the weights of the network.\n",
    "\n",
    "Now you might be thinking,\n",
    "\n",
    "What about data?\n",
    "----------------\n",
    "\n",
    "Generally, when you have to deal with image, text, audio or video data,\n",
    "you can use standard python packages that load data into a numpy array.\n",
    "Then you can convert this array into a ``torch.*Tensor``.\n",
    "\n",
    "-  For images, packages such as Pillow, OpenCV are useful\n",
    "-  For audio, packages such as scipy and librosa\n",
    "-  For text, either raw Python or Cython based loading, or NLTK and\n",
    "   SpaCy are useful\n",
    "\n",
    "Specifically for vision, we have created a package called\n",
    "``torchvision``, that has data loaders for common datasets such as\n",
    "ImageNet, CIFAR10, MNIST, etc. and data transformers for images, viz.,\n",
    "``torchvision.datasets`` and ``torch.utils.data.DataLoader``.\n",
    "\n",
    "This provides a huge convenience and avoids writing boilerplate code.\n",
    "\n",
    "For this tutorial, we will use the CIFAR10 dataset.\n",
    "\n",
    "It has the classes: \n",
    "\n",
    "‘airplane’, ‘automobile’, ‘bird’, ‘cat’, ‘deer’,\n",
    "‘dog’, ‘frog’, ‘horse’, ‘ship’, ‘truck’. \n",
    "\n",
    "The images in CIFAR-10 are of size 3x32x32, i.e. 3-channel color images of 32x32 pixels in size.\n",
    "\n",
    ".. figure:: /_static/img/cifar10.png\n",
    "   :alt: cifar10\n",
    "\n",
    "   cifar10\n",
    "\n",
    "\n",
    "Training an image classifier\n",
    "----------------------------\n",
    "\n",
    "We will do the following steps in order:\n",
    "\n",
    "1. Load and normalize the CIFAR10 training and test datasets using\n",
    "   ``torchvision``\n",
    "2. Define a Convolutional Neural Network\n",
    "3. Define a loss function\n",
    "4. Train the network on the training data\n",
    "5. Test the network on the test data\n",
    "\n",
    "1. Load and normalize CIFAR10\n",
    "\n",
    "\n",
    "Using ``torchvision``, it’s extremely easy to load CIFAR10.\n",
    "\n"
   ]
  },
  {
   "cell_type": "code",
   "execution_count": 53,
   "metadata": {},
   "outputs": [],
   "source": [
    "import torch\n",
    "import torchvision\n",
    "import torchvision.transforms as transforms"
   ]
  },
  {
   "cell_type": "markdown",
   "metadata": {},
   "source": [
    "## Define the dataset and dataloader\n",
    "\n",
    "The output of torchvision datasets are PILImage images of range [0, 1].\n",
    "We transform them to Tensors of normalized range [-1, 1].\n",
    "\n"
   ]
  },
  {
   "cell_type": "markdown",
   "metadata": {},
   "source": [
    "<div class=\"alert alert-info\"><h4>Note</h4><p>If running on Windows and you get a BrokenPipeError, try setting\n",
    "    the num_worker of torch.utils.data.DataLoader() to 0.</p></div>\n",
    "\n"
   ]
  },
  {
   "cell_type": "code",
   "execution_count": 54,
   "metadata": {},
   "outputs": [
    {
     "name": "stdout",
     "output_type": "stream",
     "text": [
      "Files already downloaded and verified\n",
      "Files already downloaded and verified\n",
      "Files already downloaded and verified\n",
      "Files already downloaded and verified\n"
     ]
    }
   ],
   "source": [
    "transform = transforms.Compose(\n",
    "    [transforms.ToTensor(),\n",
    "     transforms.Normalize((0.5, 0.5, 0.5), (0.5, 0.5, 0.5))])\n",
    "\n",
    "batch_size = 64\n",
    "\n",
    "\n",
    "def get_vis_loader():\n",
    "    transform = transforms.Compose(\n",
    "    [transforms.ToTensor(),\n",
    "     transforms.Normalize((0.5, 0.5, 0.5), (0.5, 0.5, 0.5))])\n",
    "\n",
    "    trainset = torchvision.datasets.CIFAR10(root='./data', train=True,\n",
    "                                            download=True, transform=transform)\n",
    "    trainloader = torch.utils.data.DataLoader(trainset, batch_size=4,\n",
    "                                              shuffle=True, num_workers=2)\n",
    "    testset = torchvision.datasets.CIFAR10(root='./data', train=False,\n",
    "                                           download=True, transform=transform)\n",
    "    testloader = torch.utils.data.DataLoader(testset, batch_size=4,\n",
    "                                             shuffle=False, num_workers=2)\n",
    "    return trainloader, testloader\n",
    "\n",
    "\n",
    "def get_train_loader(batch_size, transform):\n",
    "    trainset = torchvision.datasets.CIFAR10(root='./data', train=True,\n",
    "                                            download=True, transform=transform)\n",
    "    trainloader = torch.utils.data.DataLoader(trainset, batch_size=batch_size,\n",
    "                                              shuffle=True, num_workers=2)\n",
    "    return trainloader\n",
    "    \n",
    "    \n",
    "def get_test_loader(batch_size, transform):\n",
    "    testset = torchvision.datasets.CIFAR10(root='./data', train=False,\n",
    "                                           download=True, transform=transform)\n",
    "    testloader = torch.utils.data.DataLoader(testset, batch_size=batch_size,\n",
    "                                             shuffle=False, num_workers=2)\n",
    "    return testloader\n",
    "    \n",
    "    \n",
    "\n",
    "classes = ('plane', 'car', 'bird', 'cat',\n",
    "           'deer', 'dog', 'frog', 'horse', 'ship', 'truck')\n",
    "\n",
    "vistrainloader, vistestloader = get_vis_loader()\n",
    "trainloader = get_train_loader(batch_size, transform)\n",
    "testloader = get_test_loader(batch_size, transform)"
   ]
  },
  {
   "cell_type": "markdown",
   "metadata": {},
   "source": [
    "## Visualization\n",
    "\n",
    "Let us show some of the training images, for fun.\n",
    "\n"
   ]
  },
  {
   "cell_type": "code",
   "execution_count": 55,
   "metadata": {},
   "outputs": [
    {
     "data": {
      "image/png": "[encoded data removed]",
      "text/plain": [
       "<Figure size 640x480 with 1 Axes>"
      ]
     },
     "metadata": {},
     "output_type": "display_data"
    },
    {
     "name": "stdout",
     "output_type": "stream",
     "text": [
      "plane  bird horse horse\n"
     ]
    }
   ],
   "source": [
    "import matplotlib.pyplot as plt\n",
    "import numpy as np\n",
    "\n",
    "# functions to show an image\n",
    "def imshow(img):\n",
    "    img = img / 2 + 0.5     # unnormalize\n",
    "    npimg = img.numpy()\n",
    "    plt.imshow(np.transpose(npimg, (1, 2, 0)))\n",
    "    plt.show()\n",
    "\n",
    "\n",
    "# get some random training images\n",
    "dataiter = iter(vistrainloader)\n",
    "images, labels = dataiter.next()\n",
    "\n",
    "# show images\n",
    "imshow(torchvision.utils.make_grid(images))\n",
    "# print labels\n",
    "print(' '.join('%5s' % classes[labels[j]] for j in range(4)))"
   ]
  },
  {
   "cell_type": "markdown",
   "metadata": {},
   "source": [
    "## Define a Neural Network"
   ]
  },
  {
   "cell_type": "code",
   "execution_count": 56,
   "metadata": {},
   "outputs": [],
   "source": [
    "import torch.nn as nn\n",
    "import torch.nn.functional as F\n",
    "\n",
    "\n",
    "class NeuralNet(nn.Module):\n",
    "    def __init__(self):\n",
    "        super().__init__()\n",
    "        self.fc1 = nn.Linear(3*32*32, 128)\n",
    "        self.fc2 = nn.Linear(128, 256)\n",
    "        self.fc3 = nn.Linear(256, 512)\n",
    "        self.fc4 = nn.Linear(512, 10)\n",
    "\n",
    "    def forward(self, x):\n",
    "        x = torch.flatten(x, 1) # flatten all dimensions except batch\n",
    "        x = F.relu(self.fc1(x))\n",
    "        x = F.relu(self.fc2(x))\n",
    "        x = F.relu(self.fc3(x))\n",
    "        x = self.fc4(x)\n",
    "        return x\n",
    "\n",
    "\n",
    "fc_net = NeuralNet()"
   ]
  },
  {
   "cell_type": "markdown",
   "metadata": {},
   "source": [
    "## Define a Loss function and optimizer\n",
    "\n",
    "Let's use a Classification Cross-Entropy loss and SGD with momentum.\n",
    "\n"
   ]
  },
  {
   "cell_type": "code",
   "execution_count": 57,
   "metadata": {},
   "outputs": [],
   "source": [
    "import torch.optim as optim\n",
    "\n",
    "\n",
    "def get_optimizer(net, lr):\n",
    "    optimizer = optim.SGD(net.parameters(), lr=lr, momentum=0.9)\n",
    "    return optimizer\n",
    "\n",
    "\n",
    "def accuracy(output, target):\n",
    "    # get the index of the max log-probability\n",
    "    pred = output.max(1, keepdim=True)[1]\n",
    "    return pred.eq(target.view_as(pred)).float().mean()\n",
    "\n",
    "\n",
    "criterion = nn.CrossEntropyLoss()\n",
    "optimizer = get_optimizer(fc_net, 0.01)"
   ]
  },
  {
   "cell_type": "markdown",
   "metadata": {},
   "source": [
    "## Define training code"
   ]
  },
  {
   "cell_type": "code",
   "execution_count": 58,
   "metadata": {},
   "outputs": [],
   "source": [
    "def forward_step(net, inputs, labels):\n",
    "    outputs = net(inputs)\n",
    "    loss = criterion(outputs, labels)\n",
    "    return outputs, loss, labels\n",
    "\n",
    "\n",
    "def train(net, loader, optimizer, max_epoch):\n",
    "    net.train() # put the net into training mode\n",
    "    N = len(loader)\n",
    "    print_interval = (N // 8 // 100 + 1) * 100\n",
    "    for epoch in range(max_epoch):  # loop over the dataset multiple times\n",
    "\n",
    "        running_loss = 0.0\n",
    "        running_acc = 0.0\n",
    "        for i, data in enumerate(loader, 0):\n",
    "            # get the inputs; data is a list of [inputs, labels]\n",
    "            inputs, labels = data\n",
    "\n",
    "            # zero the parameter gradients\n",
    "            optimizer.zero_grad()\n",
    "\n",
    "            # forward + backward + optimize\n",
    "            outputs, loss, labels = forward_step(net, inputs, labels)\n",
    "            loss.backward()\n",
    "            optimizer.step()\n",
    "\n",
    "            # print statistics\n",
    "            running_loss += loss.item()\n",
    "            running_acc += accuracy(outputs, labels).item()\n",
    "            if (i + 1) % print_interval == 0:\n",
    "                print('Epoch: [%d / %d], batches: [%d / %d], loss: %.3f, acc: %.2f' %\n",
    "                      (epoch + 1, max_epoch, i + 1, N, \n",
    "                       running_loss / print_interval, 100 * running_acc / print_interval))\n",
    "                running_loss = 0.0\n",
    "                running_acc = 0.0\n",
    "\n",
    "    print('Finished Training')"
   ]
  },
  {
   "cell_type": "markdown",
   "metadata": {},
   "source": [
    "## Training on GPU?"
   ]
  },
  {
   "cell_type": "code",
   "execution_count": 59,
   "metadata": {},
   "outputs": [
    {
     "name": "stdout",
     "output_type": "stream",
     "text": [
      "cuda:0\n"
     ]
    }
   ],
   "source": [
    "device = torch.device(\"cuda:0\" if torch.cuda.is_available() else \"cpu\")\n",
    "\n",
    "# Assuming that we are on a CUDA machine, this should print a CUDA device:\n",
    "\n",
    "print(device)"
   ]
  },
  {
   "cell_type": "markdown",
   "metadata": {},
   "source": [
    "The rest of this section assumes that ``device`` is a CUDA device.\n",
    "\n",
    "Then these methods will recursively go over all modules and convert their\n",
    "parameters and buffers to CUDA tensors:\n",
    "\n",
    ".. code:: python\n",
    "\n",
    "    net.to(device)\n",
    "\n",
    "\n",
    "Remember that you will have to send the inputs and targets at every step\n",
    "to the GPU too:\n",
    "\n",
    ".. code:: python\n",
    "\n",
    "        inputs, labels = data[0].to(device), data[1].to(device)\n",
    "\n",
    "Why don't I notice MASSIVE speedup compared to CPU? Because your network\n",
    "is really small.\n",
    "\n",
    "**Exercise:** Try increasing the width of your network (argument 2 of\n",
    "the first ``nn.Conv2d``, and argument 1 of the second ``nn.Conv2d`` –\n",
    "they need to be the same number), see what kind of speedup you get.\n",
    "\n",
    "**Goals achieved**:\n",
    "\n",
    "- Understanding PyTorch's Tensor library and neural networks at a high level.\n",
    "- Train a small neural network to classify images"
   ]
  },
  {
   "cell_type": "markdown",
   "metadata": {},
   "source": [
    "## Train the network\n",
    "\n",
    "This is when things start to get interesting.\n",
    "We simply have to loop over our data iterator, and feed the inputs to the\n",
    "network and optimize.\n",
    "\n"
   ]
  },
  {
   "cell_type": "code",
   "execution_count": 60,
   "metadata": {},
   "outputs": [
    {
     "name": "stdout",
     "output_type": "stream",
     "text": [
      "Epoch: [1 / 5], batches: [100 / 782], loss: 2.208, acc: 19.70\n",
      "Epoch: [1 / 5], batches: [200 / 782], loss: 1.890, acc: 32.50\n",
      "Epoch: [1 / 5], batches: [300 / 782], loss: 1.755, acc: 36.09\n",
      "Epoch: [1 / 5], batches: [400 / 782], loss: 1.698, acc: 40.11\n",
      "Epoch: [1 / 5], batches: [500 / 782], loss: 1.643, acc: 40.89\n",
      "Epoch: [1 / 5], batches: [600 / 782], loss: 1.621, acc: 41.72\n",
      "Epoch: [1 / 5], batches: [700 / 782], loss: 1.603, acc: 43.31\n",
      "Epoch: [2 / 5], batches: [100 / 782], loss: 1.504, acc: 46.89\n",
      "Epoch: [2 / 5], batches: [200 / 782], loss: 1.537, acc: 45.34\n",
      "Epoch: [2 / 5], batches: [300 / 782], loss: 1.480, acc: 47.50\n",
      "Epoch: [2 / 5], batches: [400 / 782], loss: 1.479, acc: 46.97\n",
      "Epoch: [2 / 5], batches: [500 / 782], loss: 1.463, acc: 48.78\n",
      "Epoch: [2 / 5], batches: [600 / 782], loss: 1.469, acc: 47.94\n",
      "Epoch: [2 / 5], batches: [700 / 782], loss: 1.442, acc: 48.42\n",
      "Epoch: [3 / 5], batches: [100 / 782], loss: 1.365, acc: 51.88\n",
      "Epoch: [3 / 5], batches: [200 / 782], loss: 1.367, acc: 51.28\n",
      "Epoch: [3 / 5], batches: [300 / 782], loss: 1.353, acc: 52.55\n",
      "Epoch: [3 / 5], batches: [400 / 782], loss: 1.369, acc: 52.25\n",
      "Epoch: [3 / 5], batches: [500 / 782], loss: 1.360, acc: 51.33\n",
      "Epoch: [3 / 5], batches: [600 / 782], loss: 1.353, acc: 52.50\n",
      "Epoch: [3 / 5], batches: [700 / 782], loss: 1.368, acc: 51.69\n",
      "Epoch: [4 / 5], batches: [100 / 782], loss: 1.257, acc: 55.88\n",
      "Epoch: [4 / 5], batches: [200 / 782], loss: 1.277, acc: 55.27\n",
      "Epoch: [4 / 5], batches: [300 / 782], loss: 1.276, acc: 55.03\n",
      "Epoch: [4 / 5], batches: [400 / 782], loss: 1.265, acc: 55.59\n",
      "Epoch: [4 / 5], batches: [500 / 782], loss: 1.258, acc: 55.20\n",
      "Epoch: [4 / 5], batches: [600 / 782], loss: 1.291, acc: 54.77\n",
      "Epoch: [4 / 5], batches: [700 / 782], loss: 1.292, acc: 54.41\n",
      "Epoch: [5 / 5], batches: [100 / 782], loss: 1.170, acc: 58.69\n",
      "Epoch: [5 / 5], batches: [200 / 782], loss: 1.203, acc: 57.61\n",
      "Epoch: [5 / 5], batches: [300 / 782], loss: 1.221, acc: 56.77\n",
      "Epoch: [5 / 5], batches: [400 / 782], loss: 1.189, acc: 57.73\n",
      "Epoch: [5 / 5], batches: [500 / 782], loss: 1.221, acc: 56.39\n",
      "Epoch: [5 / 5], batches: [600 / 782], loss: 1.210, acc: 57.12\n",
      "Epoch: [5 / 5], batches: [700 / 782], loss: 1.197, acc: 57.75\n",
      "Finished Training\n"
     ]
    }
   ],
   "source": [
    "train(fc_net, trainloader, optimizer, 5)"
   ]
  },
  {
   "cell_type": "markdown",
   "metadata": {},
   "source": [
    "## Let's quickly save our trained model:\n",
    "\n"
   ]
  },
  {
   "cell_type": "code",
   "execution_count": 61,
   "metadata": {},
   "outputs": [],
   "source": [
    "PATH = './checkpoints/cifar_net.pth'\n",
    "\n",
    "\n",
    "def save_model(net, path):\n",
    "    torch.save(net.state_dict(), path)\n",
    "    \n",
    "    \n",
    "save_model(fc_net, PATH)"
   ]
  },
  {
   "cell_type": "markdown",
   "metadata": {},
   "source": [
    "## Test the network on the test data\n",
    "\n",
    "\n",
    "We have trained the network for 2 passes over the training dataset.\n",
    "But we need to check if the network has learnt anything at all.\n",
    "\n",
    "We will check this by predicting the class label that the neural network\n",
    "outputs, and checking it against the ground-truth. If the prediction is\n",
    "correct, we add the sample to the list of correct predictions.\n",
    "\n",
    "Okay, first step. Let us display an image from the test set to get familiar.\n",
    "\n"
   ]
  },
  {
   "cell_type": "code",
   "execution_count": 62,
   "metadata": {},
   "outputs": [
    {
     "data": {
      "image/png": "[encoded data removed]",
      "text/plain": [
       "<Figure size 640x480 with 1 Axes>"
      ]
     },
     "metadata": {},
     "output_type": "display_data"
    },
    {
     "name": "stdout",
     "output_type": "stream",
     "text": [
      "GroundTruth:    cat  ship  ship plane\n"
     ]
    }
   ],
   "source": [
    "dataiter = iter(vistestloader)\n",
    "images, labels = dataiter.next()\n",
    "\n",
    "# print images\n",
    "imshow(torchvision.utils.make_grid(images))\n",
    "print('GroundTruth: ', ' '.join('%5s' % classes[labels[j]] for j in range(4)))"
   ]
  },
  {
   "cell_type": "markdown",
   "metadata": {},
   "source": [
    "## Load a model\n",
    "Next, let's load back in our saved model (note: saving and re-loading the model\n",
    "wasn't necessary here, we only did it to illustrate how to do so):\n",
    "\n"
   ]
  },
  {
   "cell_type": "code",
   "execution_count": 63,
   "metadata": {},
   "outputs": [],
   "source": [
    "net = NeuralNet()\n",
    "\n",
    "\n",
    "def load_model(net, path):\n",
    "    net.load_state_dict(torch.load(PATH))\n",
    "    \n",
    "    \n",
    "load_model(net, PATH)"
   ]
  },
  {
   "cell_type": "markdown",
   "metadata": {},
   "source": [
    "Okay, now let us see what the neural network thinks these examples above are:\n",
    "\n"
   ]
  },
  {
   "cell_type": "code",
   "execution_count": 64,
   "metadata": {},
   "outputs": [],
   "source": [
    "outputs = net(images)"
   ]
  },
  {
   "cell_type": "markdown",
   "metadata": {},
   "source": [
    "The outputs are energies for the 10 classes.\n",
    "The higher the energy for a class, the more the network\n",
    "thinks that the image is of the particular class.\n",
    "So, let's get the index of the highest energy:\n",
    "\n"
   ]
  },
  {
   "cell_type": "code",
   "execution_count": 65,
   "metadata": {},
   "outputs": [
    {
     "name": "stdout",
     "output_type": "stream",
     "text": [
      "Predicted:    cat   car plane plane\n"
     ]
    }
   ],
   "source": [
    "_, predicted = torch.max(outputs, 1)\n",
    "\n",
    "print('Predicted: ', ' '.join('%5s' % classes[predicted[j]]\n",
    "                              for j in range(4)))"
   ]
  },
  {
   "cell_type": "markdown",
   "metadata": {},
   "source": [
    "## Define testing code"
   ]
  },
  {
   "cell_type": "code",
   "execution_count": 66,
   "metadata": {},
   "outputs": [],
   "source": [
    "def test(net, testloader):\n",
    "    correct = 0\n",
    "    total = 0\n",
    "    net.eval()\n",
    "    # since we're not training, we don't need to calculate the gradients for our outputs\n",
    "    with torch.no_grad():\n",
    "        for data in testloader:\n",
    "            images, labels = data\n",
    "            # calculate outputs by running images through the network\n",
    "            outputs = net(images)\n",
    "            # the class with the highest energy is what we choose as prediction\n",
    "            _, predicted = torch.max(outputs.data, 1)\n",
    "            total += labels.size(0)\n",
    "            correct += (predicted == labels).sum().item()\n",
    "\n",
    "    print('Accuracy of the network on the 10000 test images: %d %%' % (\n",
    "        100 * correct / total))"
   ]
  },
  {
   "cell_type": "code",
   "execution_count": 67,
   "metadata": {},
   "outputs": [
    {
     "name": "stdout",
     "output_type": "stream",
     "text": [
      "Accuracy of the network on the 10000 test images: 52 %\n"
     ]
    }
   ],
   "source": [
    "test(net, testloader)"
   ]
  },
  {
   "cell_type": "markdown",
   "metadata": {},
   "source": [
    "## See accuracy of each class\n",
    "\n",
    "That looks way better than chance, which is 10% accuracy (randomly picking\n",
    "a class out of 10 classes).\n",
    "Seems like the network learnt something.\n",
    "\n",
    "Hmmm, what are the classes that performed well, and the classes that did\n",
    "not perform well:\n",
    "\n"
   ]
  },
  {
   "cell_type": "code",
   "execution_count": 68,
   "metadata": {},
   "outputs": [],
   "source": [
    "def class_test(net, testloader):\n",
    "    # prepare to count predictions for each class\n",
    "    correct_pred = {classname: 0 for classname in classes}\n",
    "    total_pred = {classname: 0 for classname in classes}\n",
    "    \n",
    "    net.eval()\n",
    "    # again no gradients needed\n",
    "    with torch.no_grad():\n",
    "        for data in testloader:\n",
    "            images, labels = data    \n",
    "            outputs = net(images)    \n",
    "            _, predictions = torch.max(outputs, 1)\n",
    "            # collect the correct predictions for each class\n",
    "            for label, prediction in zip(labels, predictions):\n",
    "                if label == prediction:\n",
    "                    correct_pred[classes[label]] += 1\n",
    "                total_pred[classes[label]] += 1\n",
    "\n",
    "\n",
    "    # print accuracy for each class\n",
    "    for classname, correct_count in correct_pred.items():\n",
    "        acc = 100 * float(correct_count) / total_pred[classname]\n",
    "        print(\"Accuracy for class {:5s} is: {:.1f} %\".format(classname, \n",
    "                                                       acc))"
   ]
  },
  {
   "cell_type": "code",
   "execution_count": 69,
   "metadata": {},
   "outputs": [
    {
     "name": "stdout",
     "output_type": "stream",
     "text": [
      "Accuracy for class plane is: 64.6 %\n",
      "Accuracy for class car   is: 72.4 %\n",
      "Accuracy for class bird  is: 31.4 %\n",
      "Accuracy for class cat   is: 37.2 %\n",
      "Accuracy for class deer  is: 41.3 %\n",
      "Accuracy for class dog   is: 36.5 %\n",
      "Accuracy for class frog  is: 70.8 %\n",
      "Accuracy for class horse is: 53.6 %\n",
      "Accuracy for class ship  is: 65.9 %\n",
      "Accuracy for class truck is: 49.7 %\n"
     ]
    }
   ],
   "source": [
    "class_test(net, testloader)"
   ]
  },
  {
   "cell_type": "markdown",
   "metadata": {},
   "source": [
    "# Your turn now!"
   ]
  },
  {
   "cell_type": "markdown",
   "metadata": {},
   "source": [
    "## Define a Convolutional Neural Network\n",
    "\n",
    "The architecture should be:\n",
    "\n",
    "    conv2d, 5x5, 3->8, padding=2\n",
    "\n",
    "    Relu()\n",
    "\n",
    "    conv2d, 5x5, 8->16, padding=2, stride=2\n",
    "\n",
    "    Relu()\n",
    "\n",
    "    conv2d, 5x5, 16->32, padding=2\n",
    "    \n",
    "    Relu()\n",
    "\n",
    "    conv2d, 5x5, 32->64, padding=2, stride=2\n",
    "    \n",
    "    Relu()\n",
    "\n",
    "    conv2d, 5x5, 64->128, padding=2\n",
    "\n",
    "    maxpool2d\n",
    "\n",
    "    Relu()\n",
    "\n",
    "    flatten the feature map\n",
    "\n",
    "    fc, the whole feature map -> 120\n",
    "\n",
    "    Relu()\n",
    "\n",
    "    fc, 120->84\n",
    "\n",
    "    Relu()\n",
    "\n",
    "    fc, 84->10\n",
    "    "
   ]
  },
  {
   "cell_type": "code",
   "execution_count": 70,
   "metadata": {},
   "outputs": [],
   "source": [
    "import torch.nn as nn\n",
    "import torch.nn.functional as F\n",
    "\n",
    "\n",
    "class ConvolutionNet(nn.Module):\n",
    "    def __init__(self):\n",
    "        super().__init__()\n",
    "        self.layers = nn.Sequential(\n",
    "            nn.Conv2d(in_channels=3, out_channels=8, kernel_size=5, padding=2),\n",
    "            nn.ReLU(),\n",
    "            nn.Conv2d(in_channels=8, out_channels=16, kernel_size=5, padding=2, stride=2),\n",
    "            nn.ReLU(),\n",
    "            nn.Conv2d(in_channels=16, out_channels=32, kernel_size=5, padding=2),\n",
    "            nn.ReLU(),\n",
    "            nn.Conv2d(in_channels=32, out_channels=64, kernel_size=5, padding=2, stride=2),\n",
    "            nn.ReLU(),\n",
    "            nn.Conv2d(in_channels=64, out_channels=128, kernel_size=5, padding=2),\n",
    "            nn.MaxPool2d(kernel_size=2),\n",
    "            nn.ReLU(),\n",
    "            nn.Flatten(),\n",
    "            nn.Linear(in_features=128 * 4 * 4, out_features=120),\n",
    "            nn.ReLU(),\n",
    "            nn.Linear(in_features=120, out_features=84),\n",
    "            nn.ReLU(),\n",
    "            nn.Linear(in_features=84, out_features=10)\n",
    "        )\n",
    "\n",
    "    def forward(self, x):\n",
    "        x = self.layers(x)\n",
    "        return x\n"
   ]
  },
  {
   "cell_type": "markdown",
   "metadata": {},
   "source": [
    "## Train the convolutional neural network\n",
    "\n",
    "Train this CNN with learning rate 1e-2 for 5 epochs.\n",
    "\n",
    "You should see the training loss is aroung 0.9 and accuracy is around 67%."
   ]
  },
  {
   "cell_type": "code",
   "execution_count": 77,
   "metadata": {},
   "outputs": [
    {
     "name": "stdout",
     "output_type": "stream",
     "text": [
      "Epoch: [1 / 5], batches: [100 / 782], loss: 2.304, acc: 9.70\n",
      "Epoch: [1 / 5], batches: [200 / 782], loss: 2.303, acc: 10.00\n",
      "Epoch: [1 / 5], batches: [300 / 782], loss: 2.303, acc: 11.31\n",
      "Epoch: [1 / 5], batches: [400 / 782], loss: 2.302, acc: 11.92\n",
      "Epoch: [1 / 5], batches: [500 / 782], loss: 2.292, acc: 13.19\n",
      "Epoch: [1 / 5], batches: [600 / 782], loss: 2.161, acc: 20.69\n",
      "Epoch: [1 / 5], batches: [700 / 782], loss: 2.028, acc: 25.48\n",
      "Epoch: [2 / 5], batches: [100 / 782], loss: 1.825, acc: 31.89\n",
      "Epoch: [2 / 5], batches: [200 / 782], loss: 1.764, acc: 34.09\n",
      "Epoch: [2 / 5], batches: [300 / 782], loss: 1.666, acc: 38.22\n",
      "Epoch: [2 / 5], batches: [400 / 782], loss: 1.634, acc: 39.00\n",
      "Epoch: [2 / 5], batches: [500 / 782], loss: 1.566, acc: 42.36\n",
      "Epoch: [2 / 5], batches: [600 / 782], loss: 1.550, acc: 43.45\n",
      "Epoch: [2 / 5], batches: [700 / 782], loss: 1.527, acc: 44.75\n",
      "Epoch: [3 / 5], batches: [100 / 782], loss: 1.436, acc: 48.02\n",
      "Epoch: [3 / 5], batches: [200 / 782], loss: 1.361, acc: 50.58\n",
      "Epoch: [3 / 5], batches: [300 / 782], loss: 1.327, acc: 51.86\n",
      "Epoch: [3 / 5], batches: [400 / 782], loss: 1.343, acc: 51.47\n",
      "Epoch: [3 / 5], batches: [500 / 782], loss: 1.313, acc: 53.22\n",
      "Epoch: [3 / 5], batches: [600 / 782], loss: 1.298, acc: 52.66\n",
      "Epoch: [3 / 5], batches: [700 / 782], loss: 1.284, acc: 53.92\n",
      "Epoch: [4 / 5], batches: [100 / 782], loss: 1.186, acc: 57.55\n",
      "Epoch: [4 / 5], batches: [200 / 782], loss: 1.159, acc: 58.89\n",
      "Epoch: [4 / 5], batches: [300 / 782], loss: 1.152, acc: 60.12\n",
      "Epoch: [4 / 5], batches: [400 / 782], loss: 1.137, acc: 59.22\n",
      "Epoch: [4 / 5], batches: [500 / 782], loss: 1.137, acc: 59.69\n",
      "Epoch: [4 / 5], batches: [600 / 782], loss: 1.120, acc: 60.91\n",
      "Epoch: [4 / 5], batches: [700 / 782], loss: 1.125, acc: 59.91\n",
      "Epoch: [5 / 5], batches: [100 / 782], loss: 0.987, acc: 64.41\n",
      "Epoch: [5 / 5], batches: [200 / 782], loss: 0.998, acc: 64.31\n",
      "Epoch: [5 / 5], batches: [300 / 782], loss: 1.014, acc: 64.08\n",
      "Epoch: [5 / 5], batches: [400 / 782], loss: 0.984, acc: 65.31\n",
      "Epoch: [5 / 5], batches: [500 / 782], loss: 0.987, acc: 64.95\n",
      "Epoch: [5 / 5], batches: [600 / 782], loss: 0.975, acc: 65.84\n",
      "Epoch: [5 / 5], batches: [700 / 782], loss: 0.978, acc: 65.61\n",
      "Finished Training\n"
     ]
    }
   ],
   "source": [
    "conv_net = ConvolutionNet()\n",
    "train(conv_net, trainloader, get_optimizer(conv_net, 1e-2), 5)"
   ]
  },
  {
   "cell_type": "markdown",
   "metadata": {},
   "source": [
    "## Test the convolutional neural network\n",
    "\n",
    "Test this CNN on the test dataset.\n",
    "\n",
    "You should see the accuracy is around 62%."
   ]
  },
  {
   "cell_type": "code",
   "execution_count": 45,
   "metadata": {},
   "outputs": [
    {
     "name": "stdout",
     "output_type": "stream",
     "text": [
      "Accuracy of the network on the 10000 test images: 63 %\n"
     ]
    }
   ],
   "source": [
    "PATH = './checkpoints/my_cifar_net.pth'\n",
    "save_model(conv_net, PATH)\n",
    "net = ConvolutionNet()\n",
    "load_model(net, PATH)\n",
    "test(net, testloader)"
   ]
  },
  {
   "cell_type": "markdown",
   "metadata": {},
   "source": [
    "## Accuracy (each class) of CNN\n",
    "\n",
    "Test this CNN on the test dataset to see the accuracy of each class."
   ]
  },
  {
   "cell_type": "code",
   "execution_count": 46,
   "metadata": {},
   "outputs": [
    {
     "name": "stdout",
     "output_type": "stream",
     "text": [
      "Accuracy for class plane is: 77.9 %\n",
      "Accuracy for class car   is: 83.8 %\n",
      "Accuracy for class bird  is: 40.7 %\n",
      "Accuracy for class cat   is: 50.1 %\n",
      "Accuracy for class deer  is: 57.2 %\n",
      "Accuracy for class dog   is: 46.7 %\n",
      "Accuracy for class frog  is: 65.8 %\n",
      "Accuracy for class horse is: 74.9 %\n",
      "Accuracy for class ship  is: 72.0 %\n",
      "Accuracy for class truck is: 69.7 %\n"
     ]
    }
   ],
   "source": [
    "class_test(net, testloader)"
   ]
  },
  {
   "cell_type": "markdown",
   "metadata": {},
   "source": [
    "## Let's use BN\n",
    "\n",
    "Add BatchNorm2d to the convolution neural network you implemented.\n",
    "\n",
    "You should add batchnorm after the convolution operator and before the activation layer.\n",
    "\n",
    "Please train this network and show the test accuracy."
   ]
  },
  {
   "cell_type": "code",
   "execution_count": 47,
   "metadata": {},
   "outputs": [],
   "source": [
    "import torch.nn as nn\n",
    "import torch.nn.functional as F\n",
    "\n",
    "\n",
    "class ConvolutionBNNet(nn.Module):\n",
    "    def __init__(self):\n",
    "        super().__init__()\n",
    "        self.layers = nn.Sequential(\n",
    "            nn.Conv2d(in_channels=3, out_channels=8, kernel_size=5, padding=2),\n",
    "            nn.BatchNorm2d(num_features=8),\n",
    "            nn.ReLU(),\n",
    "            nn.Conv2d(in_channels=8, out_channels=16, kernel_size=5, padding=2, stride=2),\n",
    "            nn.BatchNorm2d(num_features=16),\n",
    "            nn.ReLU(),\n",
    "            nn.Conv2d(in_channels=16, out_channels=32, kernel_size=5, padding=2),\n",
    "            nn.BatchNorm2d(num_features=32),\n",
    "            nn.ReLU(),\n",
    "            nn.Conv2d(in_channels=32, out_channels=64, kernel_size=5, padding=2, stride=2),\n",
    "            nn.BatchNorm2d(num_features=64),\n",
    "            nn.ReLU(),\n",
    "            nn.Conv2d(in_channels=64, out_channels=128, kernel_size=5, padding=2),\n",
    "            nn.BatchNorm2d(num_features=128),\n",
    "            nn.MaxPool2d(kernel_size=2),\n",
    "            nn.ReLU(),\n",
    "            nn.Flatten(),\n",
    "            nn.Linear(in_features=128 * 4 * 4, out_features=120),\n",
    "            nn.ReLU(),\n",
    "            nn.Linear(in_features=120, out_features=84),\n",
    "            nn.ReLU(),\n",
    "            nn.Linear(in_features=84, out_features=10)\n",
    "        )\n",
    "\n",
    "    def forward(self, x):\n",
    "        x = self.layers(x)\n",
    "        return x"
   ]
  },
  {
   "cell_type": "markdown",
   "metadata": {},
   "source": [
    "## Train the CNN with BN\n",
    "\n",
    "Train this CNN with learning rate 1e-2 for 5 epochs.\n",
    "\n",
    "You should see the training loss is aroung 0.6 and accuracy is around 78%."
   ]
  },
  {
   "cell_type": "code",
   "execution_count": 48,
   "metadata": {},
   "outputs": [
    {
     "name": "stdout",
     "output_type": "stream",
     "text": [
      "Epoch: [1 / 5], batches: [100 / 782], loss: 1.956, acc: 26.44\n",
      "Epoch: [1 / 5], batches: [200 / 782], loss: 1.664, acc: 37.47\n",
      "Epoch: [1 / 5], batches: [300 / 782], loss: 1.546, acc: 42.38\n",
      "Epoch: [1 / 5], batches: [400 / 782], loss: 1.492, acc: 45.11\n",
      "Epoch: [1 / 5], batches: [500 / 782], loss: 1.391, acc: 49.28\n",
      "Epoch: [1 / 5], batches: [600 / 782], loss: 1.321, acc: 51.53\n",
      "Epoch: [1 / 5], batches: [700 / 782], loss: 1.280, acc: 53.25\n",
      "Epoch: [2 / 5], batches: [100 / 782], loss: 1.183, acc: 56.39\n",
      "Epoch: [2 / 5], batches: [200 / 782], loss: 1.113, acc: 60.61\n",
      "Epoch: [2 / 5], batches: [300 / 782], loss: 1.094, acc: 60.73\n",
      "Epoch: [2 / 5], batches: [400 / 782], loss: 1.037, acc: 63.03\n",
      "Epoch: [2 / 5], batches: [500 / 782], loss: 1.039, acc: 62.39\n",
      "Epoch: [2 / 5], batches: [600 / 782], loss: 0.986, acc: 64.97\n",
      "Epoch: [2 / 5], batches: [700 / 782], loss: 0.961, acc: 66.09\n",
      "Epoch: [3 / 5], batches: [100 / 782], loss: 0.857, acc: 69.48\n",
      "Epoch: [3 / 5], batches: [200 / 782], loss: 0.847, acc: 70.02\n",
      "Epoch: [3 / 5], batches: [300 / 782], loss: 0.832, acc: 71.27\n",
      "Epoch: [3 / 5], batches: [400 / 782], loss: 0.816, acc: 71.34\n",
      "Epoch: [3 / 5], batches: [500 / 782], loss: 0.806, acc: 71.52\n",
      "Epoch: [3 / 5], batches: [600 / 782], loss: 0.816, acc: 71.47\n",
      "Epoch: [3 / 5], batches: [700 / 782], loss: 0.759, acc: 73.27\n",
      "Epoch: [4 / 5], batches: [100 / 782], loss: 0.697, acc: 75.38\n",
      "Epoch: [4 / 5], batches: [200 / 782], loss: 0.705, acc: 75.22\n",
      "Epoch: [4 / 5], batches: [300 / 782], loss: 0.666, acc: 76.69\n",
      "Epoch: [4 / 5], batches: [400 / 782], loss: 0.673, acc: 76.55\n",
      "Epoch: [4 / 5], batches: [500 / 782], loss: 0.696, acc: 75.75\n",
      "Epoch: [4 / 5], batches: [600 / 782], loss: 0.703, acc: 74.86\n",
      "Epoch: [4 / 5], batches: [700 / 782], loss: 0.696, acc: 75.66\n",
      "Epoch: [5 / 5], batches: [100 / 782], loss: 0.577, acc: 80.45\n",
      "Epoch: [5 / 5], batches: [200 / 782], loss: 0.590, acc: 79.45\n",
      "Epoch: [5 / 5], batches: [300 / 782], loss: 0.577, acc: 79.77\n",
      "Epoch: [5 / 5], batches: [400 / 782], loss: 0.601, acc: 79.33\n",
      "Epoch: [5 / 5], batches: [500 / 782], loss: 0.586, acc: 79.53\n",
      "Epoch: [5 / 5], batches: [600 / 782], loss: 0.579, acc: 79.45\n",
      "Epoch: [5 / 5], batches: [700 / 782], loss: 0.592, acc: 79.45\n",
      "Finished Training\n"
     ]
    }
   ],
   "source": [
    "convBN_net = ConvolutionBNNet()\n",
    "train(convBN_net, trainloader, get_optimizer(convBN_net, 1e-2), 5)"
   ]
  },
  {
   "cell_type": "markdown",
   "metadata": {},
   "source": [
    "## Test the CNN with BN\n",
    "\n",
    "Test this CNN on the test dataset.\n",
    "\n",
    "You should see the accuracy is around 74%."
   ]
  },
  {
   "cell_type": "code",
   "execution_count": 49,
   "metadata": {},
   "outputs": [
    {
     "name": "stdout",
     "output_type": "stream",
     "text": [
      "Accuracy of the network on the 10000 test images: 74 %\n"
     ]
    }
   ],
   "source": [
    "PATH = './checkpoints/my_cifar_BN_net.pth'\n",
    "save_model(convBN_net, PATH)\n",
    "net = ConvolutionBNNet()\n",
    "load_model(net, PATH)\n",
    "test(net, testloader)"
   ]
  },
  {
   "cell_type": "markdown",
   "metadata": {},
   "source": [
    "## Accuracy (each class) of CNN with BN\n",
    "\n",
    "Test this CNN with BNN on the test dataset to see the accuracy of each class."
   ]
  },
  {
   "cell_type": "code",
   "execution_count": 50,
   "metadata": {},
   "outputs": [
    {
     "name": "stdout",
     "output_type": "stream",
     "text": [
      "Accuracy for class plane is: 84.0 %\n",
      "Accuracy for class car   is: 91.4 %\n",
      "Accuracy for class bird  is: 51.8 %\n",
      "Accuracy for class cat   is: 44.1 %\n",
      "Accuracy for class deer  is: 67.6 %\n",
      "Accuracy for class dog   is: 74.1 %\n",
      "Accuracy for class frog  is: 78.5 %\n",
      "Accuracy for class horse is: 84.6 %\n",
      "Accuracy for class ship  is: 87.3 %\n",
      "Accuracy for class truck is: 79.3 %\n"
     ]
    }
   ],
   "source": [
    "class_test(net, testloader)"
   ]
  },
  {
   "attachments": {},
   "cell_type": "markdown",
   "metadata": {},
   "source": [
    "# Remember to only submit your notebook!!!"
   ]
  },
  {
   "attachments": {},
   "cell_type": "markdown",
   "metadata": {},
   "source": [
    "# Do not submit the data and the checkpoints!!!"
   ]
  }
 ],
 "metadata": {
  "kernelspec": {
   "display_name": "Python 3 (ipykernel)",
   "language": "python",
   "name": "python3"
  },
  "language_info": {
   "codemirror_mode": {
    "name": "ipython",
    "version": 3
   },
   "file_extension": ".py",
   "mimetype": "text/x-python",
   "name": "python",
   "nbconvert_exporter": "python",
   "pygments_lexer": "ipython3",
   "version": "3.8.10"
  }
 },
 "nbformat": 4,
 "nbformat_minor": 1
}
